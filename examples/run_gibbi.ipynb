{
 "cells": [
  {
   "cell_type": "markdown",
   "id": "c0e7e8bb-2874-4e00-8339-dbbc19e5dee6",
   "metadata": {},
   "source": [
    "# Instructions:\n",
    "1) In 'Specify Input/ Output Directories' code block, update: INPUT_PATH_FOLDER and OUTPUT_PATH_FOLDER\n",
    "2) Run all cells in notebook\n",
    "\n",
    "If you are having issue (or are working on this code) see the developer notes section at the end"
   ]
  },
  {
   "cell_type": "code",
   "execution_count": 1,
   "id": "4b8b9d23-cfb5-464c-9984-7c1a7ee52bc3",
   "metadata": {},
   "outputs": [],
   "source": [
    "# TODO: Add developer notes"
   ]
  },
  {
   "cell_type": "markdown",
   "id": "91688ec0-af5d-4934-a9c3-b8b50aeb3b02",
   "metadata": {},
   "source": [
    "## Import Libraries/ Functions:"
   ]
  },
  {
   "cell_type": "code",
   "execution_count": 2,
   "id": "599508b0-addc-4ce1-b3a9-15be53aafbbe",
   "metadata": {},
   "outputs": [],
   "source": [
    "#general library:\n",
    "import os\n",
    "import shutil\n",
    "import numpy as np\n",
    "\n",
    "#add sextractor to path\n",
    "import sys\n",
    "sys.path.insert(0, '../gibbi')\n",
    "\n",
    "#now we can import the star_removal method:\n",
    "from galaxy import *\n",
    "from file_helper import read_galaxy_csv\n",
    "from fits import view_fits\n",
    "from threshold import iteratively_threshold_band_with_percentile\n",
    "from gibbi import run_gibbi_on_galaxy\n",
    "from visualize_panstarr_gibbi_output import run_visualize\n",
    "from spin_parity import read_spin_parity_galaxies_label_from_csv"
   ]
  },
  {
   "cell_type": "markdown",
   "id": "3eb7eca3-213a-4154-8246-3ac5beb0c9ba",
   "metadata": {},
   "source": [
    "## Specify Input/ Output Directories:"
   ]
  },
  {
   "cell_type": "code",
   "execution_count": 3,
   "id": "ac82eeda-b585-4e9a-aec2-86ffdb460c04",
   "metadata": {},
   "outputs": [],
   "source": [
    "################################  IMPORTANT ################################:\n",
    "#modify these paths:\n",
    "\n",
    "#path to folder (as it appears on your native OS)\n",
    "\n",
    "CSV_PATH = '../../spin-parity-catalog/output_from_running/SpArcFiRe/table2/galaxy.csv'\n",
    "\n",
    "INPUT_PATH_FOLDER = '../../spin-parity-catalog/output_from_running/sextractor/table2'\n",
    "OUTPUT_PATH_FOLDER = '../../spin-parity-catalog/image_processing/star_mask/table2'\n",
    "FITS_PATH_FOLDER =  '../../spin-parity-catalog/galaxies/table2'\n",
    "\n",
    "#########################################################################"
   ]
  },
  {
   "cell_type": "code",
   "execution_count": 4,
   "id": "6a4109b6-6c2b-4fc7-9693-5c20281ef077",
   "metadata": {},
   "outputs": [],
   "source": [
    "#TODO: Add check for folders"
   ]
  },
  {
   "cell_type": "code",
   "execution_count": 5,
   "id": "f51bef11-a385-4656-8184-c5a1b96dfc4c",
   "metadata": {},
   "outputs": [],
   "source": [
    "################################  IMPORTANT ################################:\n",
    "#modify these paths:\n",
    "\n",
    "def color_image_path(name):\n",
    "    return '../../spin-parity-catalog/galaxies/table2/{}/{}_color.jfif'.format(name,name)\n",
    "\n",
    "def fits_path(name,band):\n",
    "    return '../../spin-parity-catalog/image_processing/preprocess_fits/table2/{}/{}_{}_preprocessed.fits'.format(name,name,band)\n",
    "\n",
    "def bad_pixel_mask_path(name,band):\n",
    "    return '../../spin-parity-catalog/image_processing/bad_pixel_mask/table2/{}/{}_{}_bad_pixel_mask.fits'.format(name,name,band)\n",
    "\n",
    "def star_mask_path(name,band):\n",
    "    return '../../spin-parity-catalog/image_processing/star_mask/table2/{}/{}_{}_star_mask.fits'.format(name,name,band)\n",
    "\n",
    "visualize_path = '../../../gibbi_output/run_07_05_2022/table2'\n",
    "spin_parity_path = '../../spin-parity-catalog/table_info/csv_format_of_table/table_2.csv'\n",
    "\n",
    "#########################################################################"
   ]
  },
  {
   "cell_type": "markdown",
   "id": "db5fde9f-0cec-4f36-8180-efe42391b82c",
   "metadata": {},
   "source": [
    "## Make star mask for all fits (nested) in INPUT_PATH_FOLDER:"
   ]
  },
  {
   "cell_type": "code",
   "execution_count": 6,
   "id": "3b65f0db-3b35-4af9-a048-7843280e9dac",
   "metadata": {},
   "outputs": [],
   "source": [
    "csv_as_dict = read_galaxy_csv(CSV_PATH)"
   ]
  },
  {
   "cell_type": "code",
   "execution_count": 7,
   "id": "08fc6235-e416-4e32-95bb-bdcf1dc76097",
   "metadata": {},
   "outputs": [],
   "source": [
    "dark_side_dict = read_spin_parity_galaxies_label_from_csv(spin_parity_path)\n",
    "dark_side_dict['IC 2101'] = dark_side_dict['IC2101'] #to fix issue in table2"
   ]
  },
  {
   "cell_type": "code",
   "execution_count": 8,
   "id": "ea198186-1c8d-47d1-8fd8-cc110b31362b",
   "metadata": {},
   "outputs": [],
   "source": [
    "def run_on_galaxy(gal_name,gal_dict,dark_side):\n",
    "    try:\n",
    "        print(\"Runnin on {}\".format(gal_name))\n",
    "        gal_color_image_path = color_image_path(gal_name)\n",
    "    \n",
    "        the_gal = galaxy(gal_name,gal_dict,gal_color_image_path,fits_path,bad_pixel_mask_path,star_mask_path)\n",
    "        the_gal.create_masks()\n",
    "    \n",
    "        if len(the_gal.valid_bands) != 0:\n",
    "            (xs,diff_dict,el_data_threshold_dict,valid_pixel_mask_dict) = run_gibbi_on_galaxy(the_gal)\n",
    "            run_visualize(xs,diff_dict,el_data_threshold_dict,valid_pixel_mask_dict,the_gal,visualize_path,dark_side)\n",
    "    except Exception as e:\n",
    "        print(e)\n",
    "    finally:\n",
    "        del the_gal"
   ]
  },
  {
   "cell_type": "code",
   "execution_count": 9,
   "id": "7f1a8c7d-51aa-4c8b-8bed-322369f0f28d",
   "metadata": {},
   "outputs": [
    {
     "name": "stdout",
     "output_type": "stream",
     "text": [
      "Runnin on IC1755\n",
      "Runnin on IC 2101\n",
      "Runnin on IC5376\n",
      "Runnin on MCG-02-02-030\n",
      "Runnin on MCG-02-51-004\n"
     ]
    }
   ],
   "source": [
    "DONE = os.listdir(visualize_path)\n",
    "\n",
    "for gal_name in csv_as_dict:\n",
    "    if gal_name in DONE:\n",
    "        continue\n",
    "    #gal_name = \"NGC5395\"\n",
    "    gal_dict = csv_as_dict[gal_name]\n",
    "    \n",
    "    dark_side = \"\"\n",
    "    if gal_name in dark_side_dict:\n",
    "        dark_side = dark_side_dict[gal_name]\n",
    "        \n",
    "    run_on_galaxy(gal_name,gal_dict,dark_side)"
   ]
  },
  {
   "cell_type": "code",
   "execution_count": null,
   "id": "9bcab90f-538b-4d7a-bc93-0385b86e9edc",
   "metadata": {},
   "outputs": [],
   "source": []
  },
  {
   "cell_type": "markdown",
   "id": "8da3f96d-40f4-4f08-8884-0f2b4df0f691",
   "metadata": {},
   "source": []
  },
  {
   "cell_type": "markdown",
   "id": "ee0ad50f-2b6d-46cf-9021-75ecd5d0491c",
   "metadata": {},
   "source": [
    "\n",
    "        "
   ]
  }
 ],
 "metadata": {
  "kernelspec": {
   "display_name": "Python 3",
   "language": "python",
   "name": "python3"
  },
  "language_info": {
   "codemirror_mode": {
    "name": "ipython",
    "version": 3
   },
   "file_extension": ".py",
   "mimetype": "text/x-python",
   "name": "python",
   "nbconvert_exporter": "python",
   "pygments_lexer": "ipython3",
   "version": "3.8.8"
  }
 },
 "nbformat": 4,
 "nbformat_minor": 5
}

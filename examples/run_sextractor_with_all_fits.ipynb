{
 "cells": [
  {
   "cell_type": "markdown",
   "id": "c9cededc-3a18-4ed6-b0c4-0a5247f7ddec",
   "metadata": {},
   "source": [
    "# Instructions:\n",
    "1) In 'Specify Input/ Output Directories' code block, update: INPUT_PATH_FOLDER and OUTPUT_PATH_FOLDER\n",
    "2) Update Input/Output Diretcories:\n",
    "* If on Windows, make sure you have WSL installed. Then update WSL_INPUT_PATH_FOLDER and WSL_OUTPUT_PATH_FOLDER.\n",
    "#### Important:  \n",
    "#####    Make sure 'INPUT_PATH_FOLDER' is equivalent to 'WSL_INPUT_PATH_FOLDER' and 'OUTPUT_PATH_FOLDER' is equivalent to 'WSL_OUTPUT_PATH_FOLDER'\n",
    "* If on Linux comment out windows code block, and uncomment out linux code block\n",
    "3) Run all cells in notebook\n",
    "\n",
    "If you are having issue (or are working on this code) see the developer notes section at the end"
   ]
  },
  {
   "cell_type": "markdown",
   "id": "7b98c85f-9b59-4f1b-a744-2d234d86f4ae",
   "metadata": {},
   "source": [
    "## Import Libraries/ Functions:"
   ]
  },
  {
   "cell_type": "code",
   "execution_count": 18,
   "id": "9c2c1878-5d9b-48ac-8484-36b689c116a0",
   "metadata": {},
   "outputs": [],
   "source": [
    "#general library:\n",
    "import os\n",
    "import shutil\n",
    "\n",
    "#add sextractor to path\n",
    "import sys\n",
    "sys.path.insert(0, '../gibbi/sextractor')\n",
    "\n",
    "#now we can import the run_sextractor method:\n",
    "from run_sextractor import run_sextractor"
   ]
  },
  {
   "cell_type": "markdown",
   "id": "4a6ae539-ff77-4268-a99e-016924560455",
   "metadata": {},
   "source": [
    "## Specify Input/ Output Directories:\n",
    "\n",
    "If on Windows, you need WSL (as Sextractor is run with WSL)"
   ]
  },
  {
   "cell_type": "code",
   "execution_count": 19,
   "id": "e6e3af5d-bcbd-4bde-916d-da228ee5c2e3",
   "metadata": {},
   "outputs": [],
   "source": [
    "################################  IMPORTANT ################################:\n",
    "#modify these paths:\n",
    "\n",
    "#path to folder (as it appears on your native OS)\n",
    "INPUT_PATH_FOLDER = '..\\\\..\\\\spin-parity-catalog\\\\galaxies\\\\table5'\n",
    "OUTPUT_PATH_FOLDER = '..\\\\..\\\\spin-parity-catalog\\\\output_from_running\\\\sextractor\\\\table5'\n",
    "\n",
    "#If on Windows, uncomment out this block (and comment out Linux block):\n",
    "WSL_INPUT_PATH_FOLDER = '/mnt/c/Users/cora/Desktop/github/spin-parity-catalog/galaxies/table5' #for Windows Only\n",
    "WSL_OUTPUT_PATH_FOLDER = '/mnt/c/Users/cora/Desktop/github/spin-parity-catalog/output_from_running/sextractor/table5' #for Windows Only\n",
    "\n",
    "#If on LINUX, uncomment out this block (and comment out Windows block):\n",
    "#WSL_INPUT_PATH_FOLDER = INPUT_PATH_FOLDER #for Linux Only\n",
    "#WSL_OUTPUT_PATH_FOLDER = OUTPUT_PATH_FOLDER #for Linux Only\n",
    "#########################################################################"
   ]
  },
  {
   "cell_type": "code",
   "execution_count": 20,
   "id": "79c8e641-261a-493b-b8ac-f311a982fc92",
   "metadata": {},
   "outputs": [],
   "source": [
    "#check input directory:\n",
    "if not os.path.isdir(INPUT_PATH_FOLDER):\n",
    "    print('INPUT_PATH_FOLDER = {}: does not exist, double check the INPUT_PATH_FOLDER variable (HINT: you have to modify this)'.format(INPUT_PATH_FOLDER))\n",
    "   \n",
    "#check if output directory exists, and if not make it:\n",
    "if os.path.isdir(OUTPUT_PATH_FOLDER):\n",
    "    pass\n",
    "elif OUTPUT_PATH_FOLDER != '':\n",
    "    os.makedirs(OUTPUT_PATH_FOLDER)\n",
    "else:\n",
    "    print('OUTPUT_PATH_FOLDER = {}: is blank, double check the OUTPUT_PATH_FOLDER variable (HINT: you have to modify this)'.format(INPUT_PATH_FOLDER))"
   ]
  },
  {
   "cell_type": "markdown",
   "id": "225b7a83-249d-42d3-803a-48ba84fe4041",
   "metadata": {},
   "source": [
    "## run sextractor on all fits files in nested INPUT_PATH_FOLDER:"
   ]
  },
  {
   "cell_type": "code",
   "execution_count": 21,
   "id": "6185a21d-3c51-4eb8-964f-1e986567adcb",
   "metadata": {},
   "outputs": [],
   "source": [
    "def get_fits_files_in_folder(folder_path):\n",
    "    fits_files = []\n",
    "    for file in os.listdir(folder_path):\n",
    "        if file.endswith(\".fits\") and \"mask\" not in file:\n",
    "            fits_files.append(file)\n",
    "    return fits_files"
   ]
  },
  {
   "cell_type": "code",
   "execution_count": 22,
   "id": "1da65d5e-a272-4615-8b19-cc8ef83c0ded",
   "metadata": {},
   "outputs": [],
   "source": [
    "def run_on_fits_with_space_in_name(gal_name,fits_file,sex_path,input_folder,output_path):\n",
    "    #Step 1: Make tmp directory\n",
    "    os.makedirs(os.path.join(input_folder,'tmp')) #it will break if 'tmp' exists in input_folder\n",
    "    \n",
    "    #Step 2: Copy the file (but remove spaces in name)\n",
    "    src = os.path.join(input_folder,gal_name,fits_file)\n",
    "    dst = os.path.join(input_folder,'tmp','tmp.fits')\n",
    "    shutil.copyfile(src, dst)\n",
    "    \n",
    "    #Step 3: create input/output path:\n",
    "    input_sextractor_path = os.path.join(WSL_INPUT_PATH_FOLDER,'tmp','tmp.fits').replace(\"\\\\\",\"/\") #replace is to change to Linux style path (for Windows run)\n",
    "    output_sextractor_path = os.path.join(WSL_INPUT_PATH_FOLDER,'tmp','tmp.sex').replace(\"\\\\\",\"/\") #replace is to change to Linux style path (for Windows run)\n",
    "    \n",
    "    #Step 4: run sextractor and move file to correct location (do some tidying up too)\n",
    "    run_sextractor(input_sextractor_path,output_sextractor_path)\n",
    "    src =  os.path.join(input_folder,'tmp','tmp.sex')\n",
    "    dst = os.path.join(output_path,gal_name,sex_path)\n",
    "    shutil.copyfile(src, dst)\n",
    "    shutil.rmtree(os.path.join(input_folder,'tmp'))"
   ]
  },
  {
   "cell_type": "code",
   "execution_count": 23,
   "id": "1c9243a3-a8b2-4ef5-8663-9411636552ab",
   "metadata": {},
   "outputs": [],
   "source": [
    "def run_sextractor_with_all_fits(input_folder,output_path):\n",
    "    for gal_name in os.listdir(input_folder):\n",
    "        \n",
    "        #Step 1: Create Output dir for specific galaxy\n",
    "        print('Running on {}'.format(gal_name))\n",
    "        gal_output_path = os.path.join(output_path,gal_name)\n",
    "        os.makedirs(gal_output_path,exist_ok=True) #requires python 3.2+\n",
    "        \n",
    "        #Step 2: Get all fits files for galaxy\n",
    "        fits_for_gal = get_fits_files_in_folder(os.path.join(input_folder,gal_name))\n",
    "        \n",
    "        #Step 3: Iterate through fits and run_sextractor on all fits\n",
    "        for fits_file in fits_for_gal:\n",
    "            #Step 3a: Get input_sextractor_path and output_sextractor_path path\n",
    "            # i.e:\n",
    "            #     for fits file 'IC1683/IC1683_g.fits' with OUTPUT_PATH_FOLDER = 'sextractor'\n",
    "            #     input_sextractor_path = 'IC1683/IC1683_g.fits'\n",
    "            #     output_sextractor_path = 'sextractor/IC1683/IC1683_g.sex'\n",
    "            \n",
    "            sex_path = '{}.sex'.format(os.path.splitext(fits_file)[0])\n",
    "\n",
    "            #Handle case where galaxy has space in name:\n",
    "            if ' ' in gal_name or ' ' in fits_file:\n",
    "                run_on_fits_with_space_in_name(gal_name,fits_file,sex_path,input_folder,output_path)\n",
    "            else:\n",
    "                input_sextractor_path = os.path.join(WSL_INPUT_PATH_FOLDER,gal_name,fits_file).replace(\"\\\\\",\"/\") #replace is to change to Linux style path (for Windows run)\n",
    "                output_sextractor_path = os.path.join(WSL_OUTPUT_PATH_FOLDER,gal_name,sex_path).replace(\"\\\\\",\"/\") #replace is to change to Linux style path (for Windows run)\n",
    "            \n",
    "                #Step 3b: run sextractor\n",
    "                run_sextractor(input_sextractor_path,output_sextractor_path)"
   ]
  },
  {
   "cell_type": "code",
   "execution_count": 24,
   "id": "7cfcabff-7404-4901-824f-062b8cb8061c",
   "metadata": {},
   "outputs": [
    {
     "name": "stdout",
     "output_type": "stream",
     "text": [
      "Running on IC2247\n",
      "Running on IC540\n",
      "Running on IC944\n",
      "Running on MCG-02-02-040\n",
      "Running on MCG-02-03-015\n",
      "Running on NGC1542\n",
      "Running on NGC3067\n",
      "Running on NGC3079\n",
      "Running on NGC3169\n",
      "Running on NGC3495\n",
      "Running on NGC3626\n",
      "Running on NGC4517\n",
      "Running on NGC4605\n",
      "Running on NGC4772\n",
      "Running on NGC6314\n",
      "Running on NGC681\n",
      "Running on UGC10205\n",
      "Running on UGC10297\n",
      "Running on UGC3107\n",
      "Running on UGC5111\n",
      "Running on UGC5498\n",
      "Running on UGC6036\n",
      "Running on UGC8267\n",
      "Running on UGC8778\n",
      "Running on UGC9665\n"
     ]
    }
   ],
   "source": [
    "run_sextractor_with_all_fits(INPUT_PATH_FOLDER,OUTPUT_PATH_FOLDER)"
   ]
  },
  {
   "cell_type": "code",
   "execution_count": 25,
   "id": "e976833e-084b-4f60-b0bb-feff6db88188",
   "metadata": {},
   "outputs": [
    {
     "name": "stdout",
     "output_type": "stream",
     "text": [
      "Input: 125 galaxies, Output: 125 source extractor files\n"
     ]
    }
   ],
   "source": [
    "#Check size of input and output (and figure out if there was an issue running on something)\n",
    "def compare_input_and_output(input_folder,output_path):\n",
    "    input_count = 0\n",
    "    output_count = 0\n",
    "    for gal_name in os.listdir(input_folder):\n",
    "        for file in os.listdir(os.path.join(input_folder,gal_name)):\n",
    "            if file.endswith(\".fits\") and \"mask\" not in file:\n",
    "                input_count += 1\n",
    "                \n",
    "                sex_path = '{}.sex'.format(os.path.splitext(file)[0])\n",
    "                output = os.path.join(output_path,gal_name,sex_path)\n",
    "                if os.path.exists(output):\n",
    "                    output_count += 1\n",
    "                else:\n",
    "                    print('Missing {}'.format(sex_path))\n",
    "    print(\"Input: {} galaxies, Output: {} source extractor files\".format(input_count,output_count))\n",
    "    \n",
    "compare_input_and_output(INPUT_PATH_FOLDER,OUTPUT_PATH_FOLDER)"
   ]
  },
  {
   "cell_type": "markdown",
   "id": "4a6200da-40cb-4989-99bd-4761b6a2aa12",
   "metadata": {},
   "source": [
    "## Developer Notes:\n",
    "Last Updated: 06/22/2022\n",
    "\n",
    "Important:\n",
    "* If running on Windows, this requires WSL. Sextractor requires linux, and to run it we use WSL and run_sextractor.py creates a process (via WSL) and runs it\n",
    "* Make sure 'INPUT_PATH_FOLDER' is equivalent to 'WSL_INPUT_PATH_FOLDER' and 'OUTPUT_PATH_FOLDER' is equivalent to 'WSL_OUTPUT_PATH_FOLDER' or ELSE... it will break :'(\n",
    "\n",
    "    \n",
    "Known Bugs:\n",
    "1) On windows \"#rerunm [WinError 3]The system cannot find the path specified\" exception - Try rerunning the whole script\n",
    "\n",
    "Things to Look out for:\n",
    "1) Make sure to keep: os.chdir(original_working_dir) in run_sextractor.py remains\n",
    "In order to run sextractor, we need to switch directories so if this line is removed, we may have issues in this script\n",
    "\n",
    "2)Becareful with galaxy names with spaces, sextractor breaks if name has space, so temporary (somewhat hacky, immidetidaly) work around is to rename file (hence run_on_fits_with_space_in_name function)\n",
    "I am aware that you can escape the spaces 'i.e. https://stackoverflow.com/a/65548647/13544635 or https://stackoverflow.com/a/25655627/13544635 ' however, the issue seems to be with sextractor format not linux so we rename the file. Because of renamming, if there is a folder called 'tmp' inside 'INPUT_PATH_FOLDER' it will break"
   ]
  },
  {
   "cell_type": "code",
   "execution_count": null,
   "id": "1f5807b2-1e08-43a1-bbac-b582126c7bfe",
   "metadata": {},
   "outputs": [],
   "source": []
  }
 ],
 "metadata": {
  "kernelspec": {
   "display_name": "Python 3",
   "language": "python",
   "name": "python3"
  },
  "language_info": {
   "codemirror_mode": {
    "name": "ipython",
    "version": 3
   },
   "file_extension": ".py",
   "mimetype": "text/x-python",
   "name": "python",
   "nbconvert_exporter": "python",
   "pygments_lexer": "ipython3",
   "version": "3.8.8"
  }
 },
 "nbformat": 4,
 "nbformat_minor": 5
}

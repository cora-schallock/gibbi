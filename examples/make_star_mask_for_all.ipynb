{
 "cells": [
  {
   "cell_type": "code",
   "execution_count": 23,
   "id": "58924627-33ca-4901-8ead-56893ae9a4a8",
   "metadata": {},
   "outputs": [],
   "source": [
    "import numpy as np\n",
    "from photutils.aperture import ellipse\n",
    "    \n",
    "#Ellipse Mask:\n",
    "#NOTE: elliptical apperature uses the following coordinate convention:\n",
    "#\" In Photutils, pixel coordinates are zero-indexed, meaning that (x, y) = (0, 0) corresponds to the center of the\n",
    "#   lowest, leftmost array element. This means that the value of data[0, 0] is taken as the value over the range -0.5 <\n",
    "#   x <= 0.5, -0.5 < y <= 0.5. \n",
    "#\n",
    "#Note that this differs from the SourceExtractor, IRAF, FITS, and ds9 conventions, in\n",
    "#   which the center of the lowest, leftmost array element is (1, 1). See pg.59 in http://star-www.dur.ac.uk/~pdraper/extractor/Guide2source_extractor.pdf\"\n",
    "#Source: https://buildmedia.readthedocs.org/media/pdf/photutils/v0.3/photutils.pdf\n",
    "\n",
    "#DOCUMENTATION: https://photutils.readthedocs.io/en/stable/api/photutils.aperture.EllipticalAperture.html\n",
    "\n",
    "def create_elliptical_mask(h, k, a, b, theta, shape=(240,240)):\n",
    "    the_ellipse = ellipse.EllipticalAperture((h,k), a, b, theta=theta)\n",
    "    mask = the_ellipse.to_mask(method='exact')\n",
    "    return mask.to_image(shape) #don't convert to int with .astype(int), there's a really weird bug"
   ]
  },
  {
   "cell_type": "code",
   "execution_count": 33,
   "id": "ac82eeda-b585-4e9a-aec2-86ffdb460c04",
   "metadata": {},
   "outputs": [],
   "source": [
    "import numpy as np\n",
    "import matplotlib.pyplot as plt\n",
    "from astropy.io import fits\n",
    "\n",
    "def writeFits(path,data):\n",
    "    #write fits file to path\n",
    "    hdul = fits.PrimaryHDU(data)\n",
    "    hdul.writeto(path)\n",
    "\n",
    "def readFits(path):\n",
    "    #read fits files\n",
    "    hdul = fits.open(path)\n",
    "    data = hdul[0].data\n",
    "    return data\n",
    "\n",
    "def viewFits(fits_to_view,title=\"\", save_path = \"\"):\n",
    "    plt.figure(figsize=(20,10))\n",
    "    plt.imshow(fits_to_view, origin= 'lower') #, cmap='gray' #,cmap='inferno'\n",
    "    plt.title(title)\n",
    "    plt.colorbar()\n",
    "    if save_path != \"\":\n",
    "        plt.savefig(save_path)\n",
    "    else:\n",
    "        plt.show()\n",
    "    plt.clf()\n",
    "    plt.close()"
   ]
  },
  {
   "cell_type": "code",
   "execution_count": 24,
   "id": "a45d8fd1-f3cc-4b47-b6b7-dec8dd565a20",
   "metadata": {},
   "outputs": [],
   "source": [
    "def read_sextractor_file(file_path):\n",
    "    keys = []\n",
    "    objects = []\n",
    "    \n",
    "    with open(file_path,\"r\") as f:\n",
    "        for line in f:\n",
    "            if line.startswith('#'):\n",
    "                current_key = line.split()[2] #split() (no args) splits on all whitespace: https://stackoverflow.com/a/4309689\n",
    "                keys.append(current_key)\n",
    "            else:\n",
    "                values = map(lambda x: float(x), line.split())\n",
    "                objects.append(dict(zip(keys,values)))\n",
    "    return objects"
   ]
  },
  {
   "cell_type": "code",
   "execution_count": 71,
   "id": "c50c5142-5bdd-437d-832e-70cb446e7445",
   "metadata": {},
   "outputs": [],
   "source": [
    "def make_star_mask(file_path,the_size):\n",
    "    objects = read_sextractor_file(pa)\n",
    "    the_final_mask = np.zeros((the_size,the_size))\n",
    "    \n",
    "    #print(objects)\n",
    "    \n",
    "    \"\"\"\n",
    "    top_gal_dict = None\n",
    "    max_size = 0\n",
    "    \n",
    "    for gal_dict in objects:\n",
    "        the_size = gal_dict[\"A_IMAGE\"]+gal_dict[\"B_IMAGE\"]\n",
    "        if the_size > max_size:\n",
    "            top_gal_dict = gal_dict\n",
    "            max_size = the_size\n",
    "    \n",
    "    the_mask = ellipse_mask = create_elliptical_mask(top_gal_dict['XWIN_IMAGE']-1,\n",
    "                                                     top_gal_dict['YWIN_IMAGE']-1,\n",
    "                                                     top_gal_dict['A_IMAGE'],\n",
    "                                                     top_gal_dict['B_IMAGE'],\n",
    "                                                     top_gal_dict['THETA_IMAGE'],\n",
    "                                                     shape=(360,360))\n",
    "                                                     \n",
    "    \"\"\"\n",
    "    for gal_dict in objects:\n",
    "        the_mask = create_elliptical_mask(gal_dict['XWIN_IMAGE']-1,\n",
    "                                          gal_dict['YWIN_IMAGE']-1,\n",
    "                                          gal_dict['A_IMAGE'],\n",
    "                                          gal_dict['B_IMAGE'],\n",
    "                                          gal_dict['THETA_IMAGE'],\n",
    "                                          shape=(the_size,the_size))\n",
    "        #print(type(the_final_mask))\n",
    "        the_final_mask += the_mask\n",
    "        \n",
    "    viewFits(the_final_mask)"
   ]
  },
  {
   "cell_type": "code",
   "execution_count": 73,
   "id": "c8ca674b-ff74-44b6-a534-4f3c71150acc",
   "metadata": {},
   "outputs": [
    {
     "data": {
      "image/png": "[encoded data removed]",
      "text/plain": [
       "<Figure size 1440x720 with 2 Axes>"
      ]
     },
     "metadata": {
      "needs_background": "light"
     },
     "output_type": "display_data"
    }
   ],
   "source": [
    "name=\"NGC1035\"\n",
    "band=\"z\"\n",
    "the_size=500\n",
    "\n",
    "pa = \"/Users/cora-at-work/Desktop/github/spin-parity-catalog/output_from_running/sextractor/table2/{}/{}_{}.sex\".format(name,name,band)\n",
    "make_star_mask(pa,the_size)\n",
    "#NGC1035:500"
   ]
  },
  {
   "cell_type": "code",
   "execution_count": null,
   "id": "f2d98548-4216-4c37-bc36-3f8c6ddc9bab",
   "metadata": {},
   "outputs": [],
   "source": []
  },
  {
   "cell_type": "code",
   "execution_count": null,
   "id": "36a744d6-799f-4930-8c8e-29952af1868f",
   "metadata": {},
   "outputs": [],
   "source": []
  },
  {
   "cell_type": "code",
   "execution_count": null,
   "id": "774527cd-d9ce-4eb0-9005-2afeb6bcb524",
   "metadata": {},
   "outputs": [],
   "source": []
  },
  {
   "cell_type": "code",
   "execution_count": null,
   "id": "220c67cb-867c-4858-b2bd-b59b34fe7d9c",
   "metadata": {},
   "outputs": [],
   "source": []
  }
 ],
 "metadata": {
  "kernelspec": {
   "display_name": "Python 3",
   "language": "python",
   "name": "python3"
  },
  "language_info": {
   "codemirror_mode": {
    "name": "ipython",
    "version": 3
   },
   "file_extension": ".py",
   "mimetype": "text/x-python",
   "name": "python",
   "nbconvert_exporter": "python",
   "pygments_lexer": "ipython3",
   "version": "3.8.8"
  }
 },
 "nbformat": 4,
 "nbformat_minor": 5
}

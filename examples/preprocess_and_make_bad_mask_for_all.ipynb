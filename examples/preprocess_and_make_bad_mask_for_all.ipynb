{
 "cells": [
  {
   "cell_type": "markdown",
   "id": "c0e7e8bb-2874-4e00-8339-dbbc19e5dee6",
   "metadata": {},
   "source": [
    "# Instructions:\n",
    "1) In 'Specify Input/ Output Directories' code block, update: INPUT_PATH_FOLDER and OUTPUT_PATH_FOLDER\n",
    "2) Run all cells in notebook\n",
    "\n",
    "If you are having issue (or are working on this code) see the developer notes section at the end"
   ]
  },
  {
   "cell_type": "markdown",
   "id": "91688ec0-af5d-4934-a9c3-b8b50aeb3b02",
   "metadata": {},
   "source": [
    "## Import Libraries/ Functions:"
   ]
  },
  {
   "cell_type": "code",
   "execution_count": 13,
   "id": "599508b0-addc-4ce1-b3a9-15be53aafbbe",
   "metadata": {},
   "outputs": [],
   "source": [
    "#general library:\n",
    "import os\n",
    "import shutil\n",
    "\n",
    "#add sextractor to path\n",
    "import sys\n",
    "sys.path.insert(0, '../gibbi')\n",
    "\n",
    "#now we can import the preprocess function:\n",
    "from fits import preprocess_fits, write_fits, read_fits"
   ]
  },
  {
   "cell_type": "markdown",
   "id": "3eb7eca3-213a-4154-8246-3ac5beb0c9ba",
   "metadata": {},
   "source": [
    "## Specify Input/ Output Directories:"
   ]
  },
  {
   "cell_type": "code",
   "execution_count": 14,
   "id": "ac82eeda-b585-4e9a-aec2-86ffdb460c04",
   "metadata": {},
   "outputs": [],
   "source": [
    "################################  IMPORTANT ################################:\n",
    "#modify these paths:\n",
    "\n",
    "#path to folder (as it appears on your native OS)\n",
    "FITS_PATH_FOLDER =  '../../spin-parity-catalog/galaxies/table5'\n",
    "PREPROCESS_OUTPUT_PATH_FOLDER = '../../spin-parity-catalog/image_processing/preprocess_fits/table5'\n",
    "BAD_PIXEL_OUTPUT_PATH_FOLDER = '../../spin-parity-catalog/image_processing/bad_pixel_mask/table5'\n",
    "\n",
    "#########################################################################"
   ]
  },
  {
   "cell_type": "code",
   "execution_count": 15,
   "id": "6a4109b6-6c2b-4fc7-9693-5c20281ef077",
   "metadata": {},
   "outputs": [],
   "source": [
    "#checks fits path:\n",
    "if not os.path.isdir(FITS_PATH_FOLDER):\n",
    "    print('FITS_PATH_FOLDER = {}: does not exist, double check the FITS_PATH_FOLDER variable (HINT: you have to modify this)'.format(FITS_PATH_FOLDER))\n",
    "    \n",
    "#check if preprocess output directory exists, and if not make it:\n",
    "if os.path.isdir(PREPROCESS_OUTPUT_PATH_FOLDER):\n",
    "    pass\n",
    "elif PREPROCESS_OUTPUT_PATH_FOLDER != '':\n",
    "    os.makedirs(PREPROCESS_OUTPUT_PATH_FOLDER)\n",
    "else:\n",
    "    print('PREPROCESS_OUTPUT_PATH_FOLDER = {}: is blank, double check the PREPROCESS_OUTPUT_PATH_FOLDER variable (HINT: you have to modify this)'.format(PREPROCESS_OUTPUT_PATH_FOLDER))\n",
    "  \n",
    "#check if bad pixel output directory exists, and if not make it:\n",
    "if os.path.isdir(BAD_PIXEL_OUTPUT_PATH_FOLDER):\n",
    "    pass\n",
    "elif BAD_PIXEL_OUTPUT_PATH_FOLDER != '':\n",
    "    os.makedirs(BAD_PIXEL_OUTPUT_PATH_FOLDER)\n",
    "else:\n",
    "    print('BAD_PIXEL_OUTPUT_PATH_FOLDER = {}: is blank, double check the BAD_PIXEL_OUTPUT_PATH_FOLDER variable (HINT: you have to modify this)'.format(BAD_PIXEL_OUTPUT_PATH_FOLDER))\n",
    "   \n",
    " "
   ]
  },
  {
   "cell_type": "markdown",
   "id": "db5fde9f-0cec-4f36-8180-efe42391b82c",
   "metadata": {},
   "source": [
    "## Preprocess and create Bad Pixel Mask files for all fits in nested INPUT_PATH_FOLDER:"
   ]
  },
  {
   "cell_type": "code",
   "execution_count": 16,
   "id": "fc79d8fd-84d5-4f72-925e-a6b20a093b04",
   "metadata": {},
   "outputs": [],
   "source": [
    "def get_all_fits_in_folder(folder_path):\n",
    "    fits_files = []\n",
    "    for file in os.listdir(folder_path):\n",
    "        if file.endswith(\".fits\") and \"mask\" not in file:\n",
    "            fits_files.append(file)\n",
    "    return fits_files"
   ]
  },
  {
   "cell_type": "code",
   "execution_count": 17,
   "id": "c50c5142-5bdd-437d-832e-70cb446e7445",
   "metadata": {},
   "outputs": [],
   "source": [
    "def run_preprocess_and_bad_with_all_fits(fits_folder,preprocess_folder,bad_pixel_folder):\n",
    "    for gal_name in os.listdir(fits_folder):\n",
    "        \n",
    "        #Step 1: Create Output dir for specific galaxy\n",
    "        print('Running on {}'.format(gal_name))\n",
    "        gal_output_path = os.path.join(preprocess_folder,gal_name)\n",
    "        os.makedirs(gal_output_path,exist_ok=True) #requires python 3.2+\n",
    "        \n",
    "        gal_output_path = os.path.join(bad_pixel_folder,gal_name)\n",
    "        os.makedirs(gal_output_path,exist_ok=True) #requires python 3.2+\n",
    "        \n",
    "        #Step 2: Get all sextractor files for galaxy\n",
    "        fits_files =  get_all_fits_in_folder(os.path.join(fits_folder,gal_name))\n",
    "        \n",
    "        #Step 3: Iterate through fits and run_sextractor on all fits\n",
    "        for the_fits in fits_files:\n",
    "            #Step 3a: Get input_fits_path, output_preprocess_path, and output_bad_pixel_path\n",
    "            # i.e:\n",
    "            #     for fits file 'IC1683/IC1683_g.fits' in directory <fits_folder>:\n",
    "            #     input_fits_path = '<fits_folder>/IC1683/IC1683_g.fits'\n",
    "            #     output_preprocess_path = '<preprocess_folder>/IC1683/IC1683_g_preprocessed.fits'\n",
    "            #     fits_path = '<bad_pixel_folder>/IC1683/IC1683_g_bad_pixel_folder.fits'\n",
    "            \n",
    "            preprocess_name = \"{}_preprocessed.fits\".format(the_fits.split('.')[0])\n",
    "            bad_pixel_name = \"{}_bad_pixel_mask.fits\".format(the_fits.split('.')[0])\n",
    "            \n",
    "            input_fits_path = os.path.join(fits_folder,gal_name,the_fits)\n",
    "            output_preprocess_path = os.path.join(preprocess_folder,gal_name,preprocess_name)\n",
    "            output_bad_pixel_path = os.path.join(bad_pixel_folder,gal_name,bad_pixel_name)\n",
    "            \n",
    "            #Step 3b: Read in fits image, create preprocess fits, and bad_pixel mask\n",
    "            the_fits = read_fits(input_fits_path)\n",
    "            preprocessed_fits,bad_pixel_mask = preprocess_fits(the_fits,offset=10)\n",
    "            \n",
    "            #Step 3c: Save preprocessed fits and bad_pixel_mask\n",
    "            write_fits(output_preprocess_path,preprocessed_fits)\n",
    "            write_fits(output_bad_pixel_path,bad_pixel_mask)"
   ]
  },
  {
   "cell_type": "code",
   "execution_count": 18,
   "id": "c8ca674b-ff74-44b6-a534-4f3c71150acc",
   "metadata": {},
   "outputs": [
    {
     "name": "stdout",
     "output_type": "stream",
     "text": [
      "Running on IC2247\n",
      "Running on IC540\n",
      "Running on IC944\n",
      "Running on MCG-02-02-040\n",
      "Running on MCG-02-03-015\n",
      "Running on NGC1542\n",
      "Running on NGC3067\n",
      "Running on NGC3079\n",
      "Running on NGC3169\n",
      "Running on NGC3495\n",
      "Running on NGC3626\n",
      "Running on NGC4517\n",
      "Running on NGC4605\n",
      "Running on NGC4772\n",
      "Running on NGC6314\n",
      "Running on NGC681\n",
      "Running on UGC10205\n",
      "Running on UGC10297\n",
      "Running on UGC3107\n",
      "Running on UGC5111\n",
      "Running on UGC5498\n",
      "Running on UGC6036\n",
      "Running on UGC8267\n",
      "Running on UGC8778\n",
      "Running on UGC9665\n"
     ]
    }
   ],
   "source": [
    "run_preprocess_and_bad_with_all_fits(FITS_PATH_FOLDER,PREPROCESS_OUTPUT_PATH_FOLDER,BAD_PIXEL_OUTPUT_PATH_FOLDER)"
   ]
  },
  {
   "cell_type": "code",
   "execution_count": 7,
   "id": "9bcab90f-538b-4d7a-bc93-0385b86e9edc",
   "metadata": {},
   "outputs": [
    {
     "name": "stdout",
     "output_type": "stream",
     "text": [
      "Input: 675 fits files, Output: 675 preprocess; 675 bad pixel mask\n"
     ]
    }
   ],
   "source": [
    "#Check size of input and output (and figure out if there was an issue running on something)\n",
    "def compare_input_and_output(fits_folder,preprocess_folder,bad_pixel_folder):\n",
    "    input_count = 0\n",
    "    output_preprocess_count = 0\n",
    "    output_bad_pixel_count = 0\n",
    "    for gal_name in os.listdir(fits_folder):\n",
    "        for file in os.listdir(os.path.join(fits_folder,gal_name)):\n",
    "            if file.endswith(\".fits\") and \"mask\" not in file:\n",
    "                input_count += 1\n",
    "                \n",
    "                preprocess_name = \"{}_preprocessed.fits\".format(file.split('.')[0])\n",
    "                bad_pixel_name = \"{}_bad_pixel_mask.fits\".format(file.split('.')[0])\n",
    "                \n",
    "                output_preprocess = os.path.join(preprocess_folder,gal_name,preprocess_name)\n",
    "                output_badpixel = os.path.join(bad_pixel_folder,gal_name,bad_pixel_name)\n",
    "                \n",
    "                if os.path.exists(output_preprocess):\n",
    "                    output_preprocess_count += 1\n",
    "                else:\n",
    "                    print('Missing {}'.format(preprocess_name))\n",
    "                    \n",
    "                if os.path.exists(output_badpixel):\n",
    "                    output_bad_pixel_count += 1\n",
    "                else:\n",
    "                    print('Missing {}'.format(bad_pixel_name))\n",
    "    print(\"Input: {} fits files, Output: {} preprocess; {} bad pixel mask\".format(input_count,output_preprocess_count,output_bad_pixel_count))\n",
    "\n",
    "compare_input_and_output(FITS_PATH_FOLDER,PREPROCESS_OUTPUT_PATH_FOLDER,BAD_PIXEL_OUTPUT_PATH_FOLDER)"
   ]
  },
  {
   "cell_type": "markdown",
   "id": "8da3f96d-40f4-4f08-8884-0f2b4df0f691",
   "metadata": {},
   "source": [
    "## Developer Notes:\n",
    "Last Updated: 06/29/2022\n",
    " \n",
    "TODO: Write"
   ]
  },
  {
   "cell_type": "markdown",
   "id": "ee0ad50f-2b6d-46cf-9021-75ecd5d0491c",
   "metadata": {},
   "source": [
    "\n",
    "        "
   ]
  }
 ],
 "metadata": {
  "kernelspec": {
   "display_name": "Python 3",
   "language": "python",
   "name": "python3"
  },
  "language_info": {
   "codemirror_mode": {
    "name": "ipython",
    "version": 3
   },
   "file_extension": ".py",
   "mimetype": "text/x-python",
   "name": "python",
   "nbconvert_exporter": "python",
   "pygments_lexer": "ipython3",
   "version": "3.8.8"
  }
 },
 "nbformat": 4,
 "nbformat_minor": 5
}
